{
  "nbformat": 4,
  "nbformat_minor": 0,
  "metadata": {
    "colab": {
      "provenance": []
    },
    "kernelspec": {
      "name": "python3",
      "display_name": "Python 3"
    },
    "language_info": {
      "name": "python"
    }
  },
  "cells": [
    {
      "cell_type": "code",
      "source": [
        "from google.colab.patches import cv2_imshow"
      ],
      "metadata": {
        "id": "hT8dyyEbG0mj"
      },
      "execution_count": null,
      "outputs": []
    },
    {
      "cell_type": "code",
      "execution_count": null,
      "metadata": {
        "id": "X1gIaB27B_8O"
      },
      "outputs": [],
      "source": [
        "import cv2\n",
        "import numpy as np"
      ]
    },
    {
      "cell_type": "code",
      "source": [
        "!wget https://i.stack.imgur.com/UYYqo.jpg"
      ],
      "metadata": {
        "colab": {
          "base_uri": "https://localhost:8080/"
        },
        "id": "CeFOSriETlmi",
        "outputId": "1ab7cc76-88d7-43b9-9a81-bea0cba82ef6"
      },
      "execution_count": null,
      "outputs": [
        {
          "output_type": "stream",
          "name": "stdout",
          "text": [
            "--2023-03-16 12:05:35--  https://i.stack.imgur.com/UYYqo.jpg\n",
            "Resolving i.stack.imgur.com (i.stack.imgur.com)... 146.75.80.193\n",
            "Connecting to i.stack.imgur.com (i.stack.imgur.com)|146.75.80.193|:443... connected.\n",
            "HTTP request sent, awaiting response... 200 OK\n",
            "Length: 17459 (17K) [image/jpeg]\n",
            "Saving to: ‘UYYqo.jpg.1’\n",
            "\n",
            "\rUYYqo.jpg.1           0%[                    ]       0  --.-KB/s               \rUYYqo.jpg.1         100%[===================>]  17.05K  --.-KB/s    in 0.001s  \n",
            "\n",
            "2023-03-16 12:05:35 (16.7 MB/s) - ‘UYYqo.jpg.1’ saved [17459/17459]\n",
            "\n"
          ]
        }
      ]
    },
    {
      "cell_type": "code",
      "source": [
        "!wget https://i0.wp.com/vitalrecord.tamhsc.edu/wp-content/uploads/2022/07/toothbrushes.jpg?fit=1100%2C625&ssl=1"
      ],
      "metadata": {
        "colab": {
          "base_uri": "https://localhost:8080/"
        },
        "id": "4RwCSszAHTn5",
        "outputId": "b46db27a-ec2f-4354-c8be-8b5b30a81c8d"
      },
      "execution_count": null,
      "outputs": [
        {
          "output_type": "stream",
          "name": "stdout",
          "text": [
            "--2023-03-16 11:10:38--  https://i0.wp.com/vitalrecord.tamhsc.edu/wp-content/uploads/2022/07/toothbrushes.jpg?fit=1100%2C625\n",
            "Resolving i0.wp.com (i0.wp.com)... 192.0.77.2\n",
            "Connecting to i0.wp.com (i0.wp.com)|192.0.77.2|:443... connected.\n",
            "HTTP request sent, awaiting response... 200 OK\n",
            "Length: 99668 (97K) [image/jpeg]\n",
            "Saving to: ‘toothbrushes.jpg?fit=1100,625’\n",
            "\n",
            "toothbrushes.jpg?fi 100%[===================>]  97.33K  --.-KB/s    in 0.06s   \n",
            "\n",
            "2023-03-16 11:10:39 (1.61 MB/s) - ‘toothbrushes.jpg?fit=1100,625’ saved [99668/99668]\n",
            "\n"
          ]
        }
      ]
    },
    {
      "cell_type": "code",
      "source": [
        "!wget https://live.staticflickr.com/7062/13883047454_a2168cec5e_b.jpg"
      ],
      "metadata": {
        "colab": {
          "base_uri": "https://localhost:8080/"
        },
        "id": "aXiEmPdIMOdx",
        "outputId": "7ca8c8af-a3fd-4efe-e11c-35bf36ec493c"
      },
      "execution_count": null,
      "outputs": [
        {
          "output_type": "stream",
          "name": "stdout",
          "text": [
            "--2023-03-16 11:32:07--  https://live.staticflickr.com/7062/13883047454_a2168cec5e_b.jpg\n",
            "Resolving live.staticflickr.com (live.staticflickr.com)... 13.249.95.215, 2600:9000:21b8:cc00:0:5a51:64c9:c681, 2600:9000:21b8:6400:0:5a51:64c9:c681, ...\n",
            "Connecting to live.staticflickr.com (live.staticflickr.com)|13.249.95.215|:443... connected.\n",
            "HTTP request sent, awaiting response... 200 OK\n",
            "Length: unspecified [image/jpeg]\n",
            "Saving to: ‘13883047454_a2168cec5e_b.jpg’\n",
            "\n",
            "13883047454_a2168ce     [ <=>                ] 246.82K  --.-KB/s    in 0.03s   \n",
            "\n",
            "2023-03-16 11:32:07 (7.66 MB/s) - ‘13883047454_a2168cec5e_b.jpg’ saved [252746]\n",
            "\n"
          ]
        }
      ]
    },
    {
      "cell_type": "code",
      "source": [
        "!wget https://pjreddie.com/media/files/yolov3.weights"
      ],
      "metadata": {
        "colab": {
          "base_uri": "https://localhost:8080/"
        },
        "id": "Vx3YTntXD0Ru",
        "outputId": "5fd1a06c-10a9-4ac3-eb4d-fc1bcd231027"
      },
      "execution_count": null,
      "outputs": [
        {
          "output_type": "stream",
          "name": "stdout",
          "text": [
            "--2023-03-16 10:55:17--  https://pjreddie.com/media/files/yolov3.weights\n",
            "Resolving pjreddie.com (pjreddie.com)... 128.208.4.108\n",
            "Connecting to pjreddie.com (pjreddie.com)|128.208.4.108|:443... connected.\n",
            "HTTP request sent, awaiting response... 200 OK\n",
            "Length: 248007048 (237M) [application/octet-stream]\n",
            "Saving to: ‘yolov3.weights’\n",
            "\n",
            "yolov3.weights      100%[===================>] 236.52M  46.2MB/s    in 5.2s    \n",
            "\n",
            "2023-03-16 10:55:22 (45.6 MB/s) - ‘yolov3.weights’ saved [248007048/248007048]\n",
            "\n"
          ]
        }
      ]
    },
    {
      "cell_type": "code",
      "source": [
        "!wget \"https://raw.githubusercontent.com/pjreddie/darknet/master/cfg/yolov3.cfg\""
      ],
      "metadata": {
        "colab": {
          "base_uri": "https://localhost:8080/"
        },
        "id": "wal-Lim8E-3j",
        "outputId": "528199cb-24da-4456-f31b-11b47d915f6b"
      },
      "execution_count": null,
      "outputs": [
        {
          "output_type": "stream",
          "name": "stdout",
          "text": [
            "--2023-03-16 11:00:25--  https://raw.githubusercontent.com/pjreddie/darknet/master/cfg/yolov3.cfg\n",
            "Resolving raw.githubusercontent.com (raw.githubusercontent.com)... 185.199.108.133, 185.199.111.133, 185.199.109.133, ...\n",
            "Connecting to raw.githubusercontent.com (raw.githubusercontent.com)|185.199.108.133|:443... connected.\n",
            "HTTP request sent, awaiting response... 200 OK\n",
            "Length: 8342 (8.1K) [text/plain]\n",
            "Saving to: ‘yolov3.cfg’\n",
            "\n",
            "\ryolov3.cfg            0%[                    ]       0  --.-KB/s               \ryolov3.cfg          100%[===================>]   8.15K  --.-KB/s    in 0s      \n",
            "\n",
            "2023-03-16 11:00:25 (68.7 MB/s) - ‘yolov3.cfg’ saved [8342/8342]\n",
            "\n"
          ]
        }
      ]
    },
    {
      "cell_type": "code",
      "source": [
        "!wget \"https://raw.githubusercontent.com/pjreddie/darknet/master/data/coco.names\""
      ],
      "metadata": {
        "colab": {
          "base_uri": "https://localhost:8080/"
        },
        "id": "_hW9VbQ6FA69",
        "outputId": "7c5251cc-8fa8-4aaf-b97a-9b6edb01453b"
      },
      "execution_count": null,
      "outputs": [
        {
          "output_type": "stream",
          "name": "stdout",
          "text": [
            "--2023-03-16 11:00:43--  https://raw.githubusercontent.com/pjreddie/darknet/master/data/coco.names\n",
            "Resolving raw.githubusercontent.com (raw.githubusercontent.com)... 185.199.108.133, 185.199.109.133, 185.199.110.133, ...\n",
            "Connecting to raw.githubusercontent.com (raw.githubusercontent.com)|185.199.108.133|:443... connected.\n",
            "HTTP request sent, awaiting response... 200 OK\n",
            "Length: 625 [text/plain]\n",
            "Saving to: ‘coco.names’\n",
            "\n",
            "\rcoco.names            0%[                    ]       0  --.-KB/s               \rcoco.names          100%[===================>]     625  --.-KB/s    in 0s      \n",
            "\n",
            "2023-03-16 11:00:44 (22.3 MB/s) - ‘coco.names’ saved [625/625]\n",
            "\n"
          ]
        }
      ]
    },
    {
      "cell_type": "code",
      "source": [
        "net = cv2.dnn.readNet(\"yolov3.weights\", \"yolov3.cfg\")\n",
        "classes = []\n",
        "with open(\"coco.names\", \"r\") as f:\n",
        "    classes = [line.strip() for line in f.readlines()]\n",
        "layer_names = net.getLayerNames()\n",
        "output_layers = [layer_names[i - 1] for i in net.getUnconnectedOutLayers()]\n",
        "colors = np.random.uniform(0, 255, size=(len(classes), 3))"
      ],
      "metadata": {
        "id": "kxwRioiPCJ9g"
      },
      "execution_count": null,
      "outputs": []
    },
    {
      "cell_type": "code",
      "source": [
        "img = cv2.imread(\"/content/UYYqo.jpg\")\n",
        "img = cv2.resize(img, None, fx=0.4, fy=0.4)\n",
        "height, width, channels = img.shape"
      ],
      "metadata": {
        "id": "EGicxK94CShD"
      },
      "execution_count": null,
      "outputs": []
    },
    {
      "cell_type": "code",
      "source": [
        "# Detecting objects\n",
        "blob = cv2.dnn.blobFromImage(img, 0.00392, (416, 416), (0, 0, 0), True, crop=False)\n",
        "net.setInput(blob)\n",
        "outs = net.forward(output_layers)"
      ],
      "metadata": {
        "id": "FrALXFeqGTzs"
      },
      "execution_count": null,
      "outputs": []
    },
    {
      "cell_type": "code",
      "source": [
        "# Showing informations on the screen\n",
        "class_ids = []\n",
        "confidences = []\n",
        "boxes = []\n",
        "for out in outs:\n",
        "    for detection in out:\n",
        "        scores = detection[5:]\n",
        "        class_id = np.argmax(scores)\n",
        "        confidence = scores[class_id]\n",
        "        if confidence > 0.5:\n",
        "            # Object detected\n",
        "            center_x = int(detection[0] * width)\n",
        "            center_y = int(detection[1] * height)\n",
        "            w = int(detection[2] * width)\n",
        "            h = int(detection[3] * height)\n",
        "            # Rectangle coordinates\n",
        "            x = int(center_x - w / 2)\n",
        "            y = int(center_y - h / 2)\n",
        "            boxes.append([x, y, w, h])\n",
        "            confidences.append(float(confidence))\n",
        "            class_ids.append(class_id)"
      ],
      "metadata": {
        "id": "bPbfiyq0Gehr"
      },
      "execution_count": null,
      "outputs": []
    },
    {
      "cell_type": "code",
      "source": [
        "indexes = cv2.dnn.NMSBoxes(boxes, confidences, 0.5, 0.4)"
      ],
      "metadata": {
        "id": "FBHVlow9Glfp"
      },
      "execution_count": null,
      "outputs": []
    },
    {
      "cell_type": "code",
      "source": [
        "# def get_optimal_font_scale(text, width):\n",
        "\n",
        "#     for scale in reversed(range(0, 60, 1)):\n",
        "#         textSize = cv2.getTextSize(text, fontFace=cv2.FONT_HERSHEY_PLAIN, fontScale=scale/10, thickness=1)\n",
        "#         new_width = textSize[0][0]\n",
        "#         if (new_width <= width):\n",
        "#             return scale/10\n",
        "#     return 1\n",
        "\n",
        "# fontScale = 3*(img.shape[1]//6)"
      ],
      "metadata": {
        "id": "UqSiEXEZOLjM"
      },
      "execution_count": null,
      "outputs": []
    },
    {
      "cell_type": "code",
      "source": [
        "import math\n",
        "def optimal_font_dims(img, font_scale = 2e-3, thickness_scale = 5e-3):\n",
        "    h, w, _ = img.shape\n",
        "    font_scale = min(w, h) * font_scale\n",
        "    thickness = math.ceil(min(w, h) * thickness_scale)\n",
        "    return font_scale, thickness\n",
        "\n",
        "font_scale, thickness = optimal_font_dims(img)"
      ],
      "metadata": {
        "id": "TZY4nP9TQ4f9"
      },
      "execution_count": null,
      "outputs": []
    },
    {
      "cell_type": "code",
      "source": [
        "font_scale"
      ],
      "metadata": {
        "colab": {
          "base_uri": "https://localhost:8080/"
        },
        "id": "ItOMC_DdSQLX",
        "outputId": "505c6a3c-1cf2-48d1-b0c4-0c8246245694"
      },
      "execution_count": null,
      "outputs": [
        {
          "output_type": "execute_result",
          "data": {
            "text/plain": [
              "0.16"
            ]
          },
          "metadata": {},
          "execution_count": 165
        }
      ]
    },
    {
      "cell_type": "code",
      "source": [
        "font = cv2.FONT_HERSHEY_SIMPLEX\n",
        "for i in range(len(boxes)):\n",
        "    if i in indexes:\n",
        "        x, y, w, h = boxes[i]\n",
        "        label = str(classes[class_ids[i]])\n",
        "        color = colors[i]\n",
        "        cv2.rectangle(img, (x, y), (x + w, y + h), color, 2)\n",
        "        # font_size = get_optimal_font_scale(label, fontScale)\n",
        "        cv2.putText(img, label, (x, y + 30), font, font_scale, color=color, thickness=2)\n",
        "\n",
        "# image = cv2.putText(image, 'OpenCV', org, font, \n",
        "#                    fontScale, color, thickness, cv2.LINE_AA)\n",
        "cv2_imshow(img)\n",
        "cv2.waitKey(0)\n",
        "cv2.destroyAllWindows()"
      ],
      "metadata": {
        "colab": {
          "base_uri": "https://localhost:8080/",
          "height": 97
        },
        "id": "WLtWvCCHGodk",
        "outputId": "fcdf3e12-5ab0-4907-fed6-7ea6722eb425"
      },
      "execution_count": null,
      "outputs": [
        {
          "output_type": "display_data",
          "data": {
            "text/plain": [
              "<PIL.Image.Image image mode=RGB size=80x80 at 0x7F9B404A68B0>"
            ],
            "image/png": "[encoded data removed]"
          },
          "metadata": {}
        }
      ]
    },
    {
      "cell_type": "code",
      "source": [
        "t"
      ],
      "metadata": {
        "id": "3lnUowgDGsCP"
      },
      "execution_count": null,
      "outputs": []
    }
  ]
}